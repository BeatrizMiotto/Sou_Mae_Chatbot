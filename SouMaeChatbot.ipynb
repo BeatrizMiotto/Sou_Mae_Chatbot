{
  "nbformat": 4,
  "nbformat_minor": 0,
  "metadata": {
    "colab": {
      "provenance": [],
      "authorship_tag": "ABX9TyMPIe6256qWpMtYzUoHd/fl",
      "include_colab_link": true
    },
    "kernelspec": {
      "name": "python3",
      "display_name": "Python 3"
    },
    "language_info": {
      "name": "python"
    }
  },
  "cells": [
    {
      "cell_type": "markdown",
      "metadata": {
        "id": "view-in-github",
        "colab_type": "text"
      },
      "source": [
        "<a href=\"https://colab.research.google.com/github/BeatrizMiotto/Sou_Mae_Chatbot/blob/main/SouMaeChatbot.ipynb\" target=\"_parent\"><img src=\"https://colab.research.google.com/assets/colab-badge.svg\" alt=\"Open In Colab\"/></a>"
      ]
    },
    {
      "cell_type": "code",
      "execution_count": 1,
      "metadata": {
        "id": "n181nOYhqeAy"
      },
      "outputs": [],
      "source": [
        "!pip install -q -U google-generativeai"
      ]
    },
    {
      "cell_type": "code",
      "source": [
        "import google.generativeai as genai\n",
        "GOOGLE_API_KEY = \"SECRET_KEY\"\n",
        "genai.configure(api_key=GOOGLE_API_KEY)"
      ],
      "metadata": {
        "id": "ErWuC6dGr1ed"
      },
      "execution_count": 2,
      "outputs": []
    },
    {
      "cell_type": "code",
      "source": [
        "generation_config ={\n",
        "    \"candidate_count\": 1,\n",
        "    \"temperature\": 1,\n",
        "}"
      ],
      "metadata": {
        "id": "C2vis4Vmr-l6"
      },
      "execution_count": 3,
      "outputs": []
    },
    {
      "cell_type": "code",
      "source": [
        "safety_settings = {\n",
        "    \"HARASSMENT\": \"BLOCK_none\",\n",
        "    \"HATE\": \"BLOCK_none\",\n",
        "    \"SEXUAL\": \"BLOCK_none\",\n",
        "    \"DANGEROUS\": \"BLOCK_none\",\n",
        "\n",
        "}"
      ],
      "metadata": {
        "id": "f7C6q1oCsOHS"
      },
      "execution_count": 4,
      "outputs": []
    },
    {
      "cell_type": "code",
      "source": [
        "model=genai.GenerativeModel(model_name=\"gemini-1.5-pro-latest\",\n",
        "                              generation_config = generation_config,\n",
        "                              safety_settings = safety_settings\n",
        "                              )"
      ],
      "metadata": {
        "id": "32D7aFmbsUsa"
      },
      "execution_count": 5,
      "outputs": []
    },
    {
      "cell_type": "code",
      "source": [
        "response = model.generate_content(\"O que devo saber sobre maternidade.\")\n",
        "print(response.text)"
      ],
      "metadata": {
        "colab": {
          "base_uri": "https://localhost:8080/",
          "height": 523
        },
        "id": "-YiupwNIsmF4",
        "outputId": "b1db5231-cd5b-4307-a761-ade50bb25121"
      },
      "execution_count": 6,
      "outputs": [
        {
          "output_type": "stream",
          "name": "stdout",
          "text": [
            "A maternidade é uma jornada incrível, complexa e profundamente pessoal.  Não há uma única resposta \"certa\" para tudo, e muito do que você vai aprender virá com a experiência. \n",
            "\n",
            "Aqui estão algumas coisas que podem te ajudar:\n",
            "\n",
            "**Antes da chegada do bebê:**\n",
            "\n",
            "* **Cuide da sua saúde:**  Alimentação saudável, exercícios físicos e consultas pré-natais regulares são essenciais para uma gravidez saudável.\n",
            "* **Prepare-se financeiramente:** Bebês geram muitos custos. Comece a se planejar financeiramente para lidar com as novas despesas.\n",
            "* **Monte o enxoval:**  Pesquise e escolha os itens essenciais para o seu bebê, como roupas, fraldas, berço, carrinho, etc.\n",
            "* **Informe-se sobre o parto:**  Existem diversos tipos de parto e cada um tem suas particularidades. É importante se informar e escolher o que for melhor para você e seu bebê, em conjunto com seu médico.\n",
            "* **Converse com outras mães:**  Compartilhar experiências e dúvidas com outras mães pode te dar segurança e apoio emocional. \n",
            "\n",
            "**Após a chegada do bebê:**\n",
            "\n",
            "* **Amamentação:**  Amamentar é a melhor forma de nutrir seu bebê.  Busque informações e apoio para superar as dificuldades que possam surgir.\n",
            "* **Sono do bebê:**  Estabelecer uma rotina de sono para o bebê é importante para o desenvolvimento dele e para a sua saúde mental.\n",
            "* **Puerpério:**  Seu corpo estará se recuperando do parto e se adaptando à nova realidade hormonal.  Cuide de si mesma, peça ajuda e não hesite em buscar apoio psicológico se precisar.\n",
            "* **Rotina:**  A vida com um bebê pode ser caótica. Tente criar uma rotina para organizar o dia a dia, mas seja flexível pois nem sempre as coisas saem como planejado.\n",
            "* **Rede de apoio:**  Ter uma rede de apoio, composta por familiares, amigos ou outros pais, é fundamental para te ajudar a enfrentar os desafios da maternidade.\n",
            "* **Confie em você:**  Você é a melhor mãe para o seu bebê. Siga seus instintos e não tenha medo de errar, pois a maternidade é um aprendizado constante.\n",
            "\n",
            "**Lembre-se:**\n",
            "\n",
            "* **Cada bebê é único:**  Não compare o desenvolvimento do seu bebê com o de outras crianças. Cada um tem seu próprio ritmo.\n",
            "* **Você não está sozinha:**  Muitas mães passam pelas mesmas dificuldades que você. Busque ajuda e apoio quando precisar.\n",
            "* **Aproveite cada momento:**  Os primeiros anos passam muito rápido.  Aproveite cada fase da maternidade, mesmo com seus desafios.\n",
            "\n",
            "A maternidade é um turbilhão de emoções, alegrias e desafios.  Esteja preparada para se reinventar, se adaptar e aprender a cada dia.  E o mais importante: confie em si mesma, ame seu bebê e aproveite essa jornada única!\n"
          ]
        }
      ]
    },
    {
      "cell_type": "code",
      "source": [
        "chat = model.start_chat(history=[])"
      ],
      "metadata": {
        "id": "MhE2PQi-tA-r"
      },
      "execution_count": 7,
      "outputs": []
    },
    {
      "cell_type": "code",
      "source": [
        "print(\"Oi, eu sou a Laris, sua assistente nessa nova jornada, parabéns mamãe!!!\")\n",
        "print(\"Lembre-se sempre de procurar o seu medico, combinado!!!\")\n",
        "print(\"Para finalizar nossa conversa digite Laris\")\n",
        "print(\"O que deseja saber?\")\n",
        "prompt = input(\"Mamãe: \")\n",
        "\n",
        "while prompt != \"Laris\":\n",
        "  response = chat.send_message(prompt)\n",
        "  print(\"Laris: \", response.text)\n",
        "  prompt = input(\"Mamãe: \")\n"
      ],
      "metadata": {
        "colab": {
          "base_uri": "https://localhost:8080/",
          "height": 731
        },
        "id": "pPZfS8xztDOD",
        "outputId": "18041367-d088-49ce-ecd6-2cc741dcd516"
      },
      "execution_count": 13,
      "outputs": [
        {
          "name": "stdout",
          "output_type": "stream",
          "text": [
            "Oi, eu sou a Laris, sua assistente nessa nova jornada, parabéns mamãe!!!\n",
            "Lembre-se sempre de procurar o seu medico, combinado!!!\n",
            "Para finalizar nossa conversa digite Laris\n",
            "O que deseja saber?\n",
            "Mamãe: Estou com 12 semanas\n",
            "Laris:  Que legal! 12 semanas de gravidez! Você passou do primeiro trimestre, uma etapa importante. 😊 \n",
            "\n",
            "A essa altura, muitas mudanças aconteceram, tanto para você quanto para o bebê. \n",
            "\n",
            "**No seu corpo:**\n",
            "\n",
            "* **Adeus enjoos matinais?** Para muitas mulheres, os enjoos matinais começam a diminuir nesse período. Você pode ter mais energia e disposição. 🎉\n",
            "* **Barriguinha aparecendo:** Seu útero cresceu bastante e a barriguinha de grávida começa a aparecer. \n",
            "* **Aumento do apetite:** É comum sentir mais fome, já que seu corpo precisa de energia para nutrir o bebê.\n",
            "* **Mudanças na pele:** Algumas mulheres notam manchas na pele, como o melasma (manchas escuras no rosto), devido às alterações hormonais. \n",
            "\n",
            "**No desenvolvimento do bebê:**\n",
            "\n",
            "* **Tamanho de um limão:** O bebê mede cerca de 6 cm e pesa em torno de 14 gramas.\n",
            "* **Órgãos em desenvolvimento:** Os principais órgãos já estão formados e continuam a se desenvolver e amadurecer. \n",
            "* **Unhas e cabelos:** As unhas dos dedos das mãos e dos pés começam a se formar, assim como os folículos capilares.\n",
            "* **Movimentos:** O bebê se move bastante, embora você ainda não consiga sentir.\n",
            "* **Sexo definido:** Os genitais externos estão formados, mas ainda é cedo para saber o sexo do bebê por ultrassom. \n",
            "\n",
            "**Cuidados importantes:**\n",
            "\n",
            "* **Pré-natal em dia:** Continue acompanhando sua gravidez com seu médico regularmente. \n",
            "* **Alimentação balanceada:** Priorize alimentos nutritivos para o desenvolvimento do bebê e para sua saúde.\n",
            "* **Exercícios leves:** Se seu médico liberar, você pode começar a praticar atividades físicas leves, como caminhadas e yoga para gestantes. \n",
            "* **Hidratação:** Continue bebendo bastante água.\n",
            "* **Roupas confortáveis:**  A medida que sua barriga cresce, invista em roupas confortáveis que te deixem à vontade.\n",
            "\n",
            "**Dicas extras:**\n",
            "\n",
            "* **Ultrassom morfológico:** Entre 11 e 14 semanas, você fará um ultrassom importante, chamado ultrassom morfológico, para avaliar a anatomia do bebê e detectar possíveis anomalias.\n",
            "* **Curso para gestantes:** É um bom momento para se inscrever em um curso para gestantes, onde você aprenderá sobre os cuidados com o bebê, parto e amamentação.\n",
            "\n",
            "Aproveite essa fase incrível da gravidez! 💖 \n",
            "\n",
            "Mamãe: Laris\n"
          ]
        }
      ]
    }
  ]
}